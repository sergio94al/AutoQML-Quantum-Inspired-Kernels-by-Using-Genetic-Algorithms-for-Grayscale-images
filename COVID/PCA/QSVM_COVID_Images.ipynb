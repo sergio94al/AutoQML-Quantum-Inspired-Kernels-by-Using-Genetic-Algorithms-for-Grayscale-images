{
 "cells": [
  {
   "cell_type": "code",
   "execution_count": 1,
   "metadata": {},
   "outputs": [
    {
     "name": "stderr",
     "output_type": "stream",
     "text": [
      "<frozen importlib._bootstrap>:228: RuntimeWarning: scipy._lib.messagestream.MessageStream size changed, may indicate binary incompatibility. Expected 56 from C header, got 64 from PyObject\n"
     ]
    }
   ],
   "source": [
    "from sklearn.preprocessing import MinMaxScaler\n",
    "import time\n",
    "from deap import base, creator, tools, algorithms\n",
    "from joblib import Parallel, delayed\n",
    "from pytorch_lightning import Trainer\n",
    "from pytorch_lightning.callbacks import EarlyStopping\n",
    "import os\n",
    "import copy\n",
    "import cv2\n",
    "import torch.distributed as dist\n",
    "import time\n",
    "import os\n",
    "import copy\n",
    "from torch.utils.data import TensorDataset, DataLoader,Dataset, Sampler\n",
    "import torch.utils.data as data_utils\n",
    "from sklearn.decomposition import PCA\n",
    "from sklearn.model_selection import train_test_split\n",
    "import multiprocessing\n",
    "import pickle\n",
    "import dill\n",
    "from sklearn.preprocessing import StandardScaler\n",
    "\n",
    "# Plotting\n",
    "import matplotlib.pyplot as plt\n",
    "import warnings\n",
    "warnings.simplefilter(action='ignore', category=FutureWarning)\n",
    "\n",
    "from skimage import color\n",
    "from skimage import io\n",
    "import copy\n",
    "from PIL import Image\n",
    "import PIL\n",
    "import imageio\n",
    "from sklearn.decomposition import PCA\n",
    "\n",
    "import skimage\n",
    "from skimage.transform import resize\n",
    "# PyTorch\n",
    "import pandas as pd\n",
    "from glob import iglob"
   ]
  },
  {
   "cell_type": "code",
   "execution_count": 2,
   "metadata": {},
   "outputs": [],
   "source": [
    "def plot_evo (log):\n",
    "    gen = log.select('gen')\n",
    "    fit_min = log.select('min')\n",
    "    fit_max = log.select('max')\n",
    "    fit_avg = log.select('media')\n",
    "    \n",
    "    fig, ax = plt.subplots()\n",
    "    ax.plot(gen,fit_min, 'b')\n",
    "    ax.plot(gen,fit_max, 'r')\n",
    "    ax.plot(gen,fit_avg, '--k')\n",
    "    ax.fill_between(gen,fit_min,fit_max, alpha=0.2, facecolor='g')\n",
    "    ax.set_xlabel('Generation')\n",
    "    ax.set_ylabel('Accuracy')\n",
    "    ax.set_ylim([0,1])\n",
    "    ax.legend(['min','max','avg'])\n",
    "    plt.grid(True)\n",
    "    output_dir = r'C:\\Users\\sergi\\Desktop\\AUTOQML_CODE\\COVID\\COV_PCA_05'\n",
    "    myfile = \"Evolution_2000_pi8.pdf\"\n",
    "    output_path = os.path.join(output_dir,myfile)\n",
    "    fig.savefig(output_path, bbox_inches='tight', dpi=250)\n",
    "    \n",
    "    \n",
    "def plot_std (log):\n",
    "    gen = log.select('gen')\n",
    "    fit_std = log.select('std')\n",
    "    fig, ax = plt.subplots()\n",
    "    ax.plot(gen,fit_std,'^g')\n",
    "    ax.set_xlabel('Generation')\n",
    "    ax.set_ylabel('Std_Accuracy')\n",
    "    ax.set_ylim([0,1])\n",
    "    ax.legend(['std'])\n",
    "    plt.grid(True)\n",
    "    output_dir = r'C:\\Users\\sergi\\Desktop\\AUTOQML_CODE\\COVID\\COV_PCA_05'\n",
    "    myfile = \"STD_2000_pi8.pdf\"\n",
    "    output_path = os.path.join(output_dir,myfile)\n",
    "    fig.savefig(output_path, bbox_inches='tight', dpi=250)"
   ]
  },
  {
   "cell_type": "code",
   "execution_count": 5,
   "metadata": {},
   "outputs": [
    {
     "name": "stdout",
     "output_type": "stream",
     "text": [
      "multi\n"
     ]
    },
    {
     "name": "stderr",
     "output_type": "stream",
     "text": [
      "C:\\Users\\sergi\\miniconda3\\envs\\pennylane_env\\lib\\site-packages\\deap\\creator.py:138: RuntimeWarning: A class named 'FitnessMulti' has already been created and it will be overwritten. Consider deleting previous creation of that class or rename it.\n",
      "  warnings.warn(\"A class named '{0}' has already been created and it \"\n",
      "C:\\Users\\sergi\\miniconda3\\envs\\pennylane_env\\lib\\site-packages\\deap\\creator.py:138: RuntimeWarning: A class named 'Individual' has already been created and it will be overwritten. Consider deleting previous creation of that class or rename it.\n",
      "  warnings.warn(\"A class named '{0}' has already been created and it \"\n"
     ]
    },
    {
     "name": "stdout",
     "output_type": "stream",
     "text": [
      "gen\tnevals\tmedia   \tstd     \tmax     \tmin     \n",
      "0  \t20    \t0.610811\t0.037401\t0.702703\t0.540541\n"
     ]
    },
    {
     "name": "stderr",
     "output_type": "stream",
     "text": [
      "\n",
      "KeyboardInterrupt\n",
      "\n"
     ]
    }
   ],
   "source": [
    "#Math Part\n",
    "import multiprocessing\n",
    "import numpy as np\n",
    "import pandas as pd\n",
    "import pandas as pd\n",
    "from sklearn.preprocessing import LabelEncoder, OneHotEncoder\n",
    "from sklearn.preprocessing import normalize\n",
    "import numpy as np\n",
    "from sklearn import preprocessing \n",
    "#Graph\n",
    "import matplotlib.pyplot as plt\n",
    "from deap import algorithms\n",
    "from deap import base\n",
    "from deap import benchmarks\n",
    "from deap.benchmarks.tools import diversity, convergence, hypervolume\n",
    "from deap import creator\n",
    "from deap import tools\n",
    "import importlib\n",
    "import circuit\n",
    "import encoding\n",
    "import qsvm\n",
    "import fitness\n",
    "import gsvm\n",
    "importlib.reload(circuit)\n",
    "importlib.reload(encoding)\n",
    "importlib.reload(qsvm)\n",
    "importlib.reload(fitness)\n",
    "importlib.reload(gsvm)\n",
    "\n",
    "import pandas as pd\n",
    "import time\n",
    "\n",
    "#- Guardo la funcion main en una funcion para poder hacer el line profiler -\n",
    "def evol(output=\"COVID_RESULTS_2000_nq6_qd15.csv\"):\n",
    "    faces = pd.DataFrame([])\n",
    "    label=[]\n",
    "    Files = ['COVID_0', 'SANO_1']\n",
    "    path = r\"C:\\Users\\sergi\\Desktop\\AUTOQML_CODE\\COVID\\COV_PCA_05\"\n",
    "    for files in Files:\n",
    "        cpath = os.path.join(path, files)\n",
    "        cpath = os.path.join(cpath)\n",
    "        for img in os.listdir(cpath):\n",
    "            if cpath[-1] == '0':\n",
    "                label.append(1)\n",
    "            else:\n",
    "                label.append(0)   \n",
    "            img3 = imageio.imread(os.path.join(cpath, img), pilmode='L')\n",
    "            img = cv2.resize(img3, (250, 250))\n",
    "            face = pd.Series(img.flatten())\n",
    "            faces = faces.append(face,ignore_index=True) #Introducing in the fitness function the flatten vector of the image.\n",
    "            \n",
    "    start = time.time()\n",
    "    pop, pareto, log = gsvm.gsvm(nqubits=6, q_depth=11,X=faces, y=label,\n",
    "                                     mu=20,lambda_=25, ngen=2000)\n",
    "    print(f'Simulation finished after {time.time()-start} seconds')\n",
    "    print(f'\\nGenetic-algorithm output ({output})')\n",
    "    print('generation, individual, gates/qubit, accuracy')\n",
    "    print('---------------------------------------------')\n",
    "    with open(output, \"w\") as f:\n",
    "        for ide, ind in enumerate(pareto):\n",
    "            genes=''.join(str(i) for i in list(ind))\n",
    "            gates, acc = ind.fitness.values\n",
    "            line = f'{ide},\"{genes}\",{gates},{acc}'\n",
    "            f.write(line)\n",
    "            f.write('\\n')\n",
    "            print(line)\n",
    "    plot_evo (log)\n",
    "    plot_std (log)\n",
    "\n",
    "evol()"
   ]
  }
 ],
 "metadata": {
  "kernelspec": {
   "display_name": "Python 3 (ipykernel)",
   "language": "python",
   "name": "python3"
  },
  "language_info": {
   "codemirror_mode": {
    "name": "ipython",
    "version": 3
   },
   "file_extension": ".py",
   "mimetype": "text/x-python",
   "name": "python",
   "nbconvert_exporter": "python",
   "pygments_lexer": "ipython3",
   "version": "3.9.7"
  }
 },
 "nbformat": 4,
 "nbformat_minor": 4
}
